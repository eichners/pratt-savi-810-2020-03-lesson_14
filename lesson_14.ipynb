{
 "cells": [
  {
   "cell_type": "markdown",
   "metadata": {},
   "source": [
    "# Lesson 14\n",
    "\n",
    "# Folium, Plotly, Python for ArcGIS online\n",
    "\n",
    "\n",
    "\n",
    "![http://www.pratt.edu/tiny_mce/plugins/imagemanager/files/Light_brown_blue22.jpg](http://www.pratt.edu/tiny_mce/plugins/imagemanager/files/Light_brown_blue22.jpg)\n",
    "\n",
    "# Class Links\n",
    "\n",
    "* [Syllabus](https://docs.google.com/document/d/1KHxT-NkaoXXdSNkK8JlzL2FFgmNoxPQ25fwgtXPnbrY)\n",
    "\n",
    "* [Class Google Spreadsheet](https://docs.google.com/spreadsheets/d/1t481r7HjQBbjNtFOABSOlcckzQhdrh12TCzpSYKurI0/edit?usp=sharing)\n",
    "\n",
    "* [Google Meetup Video Hangout](https://meet.google.com/aym-kxae-bzr)\n",
    "\n",
    "  * For United States Dial +1 \n",
    "    * (669) 220-6376\n",
    "  * Enter this PIN when prompted: \n",
    "    * 891 126 706 #\n",
    "  \n",
    "* [GitHub Organization](https://github.com/pratt-savi-810)\n",
    "\n",
    "* [Slack Organization](https://app.slack.com/client/T01068MA75X/C010J3Q2QET)\n",
    "\n",
    "* [Resources](https://github.com/pratt-savi-810/resources)"
   ]
  },
  {
   "cell_type": "markdown",
   "metadata": {
    "toc": true
   },
   "source": [
    "<h1>Table of Contents<span class=\"tocSkip\"></span></h1>\n",
    "<div class=\"toc\"><ul class=\"toc-item\"><li><span><a href=\"#Lesson-14\" data-toc-modified-id=\"Lesson-14-1\">Lesson 14</a></span></li><li><span><a href=\"#Folium,-Plotly,-Python-for-ArcGIS-online\" data-toc-modified-id=\"Folium,-Plotly,-Python-for-ArcGIS-online-2\">Folium, Plotly, Python for ArcGIS online</a></span></li><li><span><a href=\"#Class-Links\" data-toc-modified-id=\"Class-Links-3\">Class Links</a></span></li><li><span><a href=\"#Learning-Objectives\" data-toc-modified-id=\"Learning-Objectives-4\">Learning Objectives</a></span><ul class=\"toc-item\"><li><ul class=\"toc-item\"><li><span><a href=\"#Fork-and-Clone-this-Lesson-Repo\" data-toc-modified-id=\"Fork-and-Clone-this-Lesson-Repo-4.0.1\">Fork and Clone this Lesson Repo</a></span></li></ul></li></ul></li><li><span><a href=\"#Import-Libraries\" data-toc-modified-id=\"Import-Libraries-5\">Import Libraries</a></span></li><li><span><a href=\"#Folium\" data-toc-modified-id=\"Folium-6\">Folium</a></span><ul class=\"toc-item\"><li><ul class=\"toc-item\"><li><ul class=\"toc-item\"><li><span><a href=\"#Conda-Install-Folium-in-case-you-don't-have\" data-toc-modified-id=\"Conda-Install-Folium-in-case-you-don't-have-6.0.0.1\">Conda Install Folium in case you don't have</a></span></li><li><span><a href=\"#Earlier-on-in-the-class-we-plotted-a-map-with-Folim,-let's-revisit\" data-toc-modified-id=\"Earlier-on-in-the-class-we-plotted-a-map-with-Folim,-let's-revisit-6.0.0.2\">Earlier on in the class we plotted a map with Folim, let's revisit</a></span></li><li><span><a href=\"#Import-folium\" data-toc-modified-id=\"Import-folium-6.0.0.3\">Import <code>folium</code></a></span></li><li><span><a href=\"#Create-a-Folium-Map\" data-toc-modified-id=\"Create-a-Folium-Map-6.0.0.4\">Create a Folium Map</a></span></li><li><span><a href=\"#Add-a-Marker-to-the-Map\" data-toc-modified-id=\"Add-a-Marker-to-the-Map-6.0.0.5\">Add a Marker to the Map</a></span></li><li><span><a href=\"#Add-one-more-Marker-and-Save-As-HTML-file\" data-toc-modified-id=\"Add-one-more-Marker-and-Save-As-HTML-file-6.0.0.6\">Add one more Marker and Save As HTML file</a></span></li><li><span><a href=\"#Show-our-map\" data-toc-modified-id=\"Show-our-map-6.0.0.7\">Show our map</a></span></li><li><span><a href=\"#Let's-now-Create-a-CircleMarker\" data-toc-modified-id=\"Let's-now-Create-a-CircleMarker-6.0.0.8\">Let's now Create a CircleMarker</a></span></li><li><span><a href=\"#Let's-now-Create-a-Circle\" data-toc-modified-id=\"Let's-now-Create-a-Circle-6.0.0.9\">Let's now Create a Circle</a></span></li><li><span><a href=\"#Vincent/Vega-and-Altair/VegaLite-Markers\" data-toc-modified-id=\"Vincent/Vega-and-Altair/VegaLite-Markers-6.0.0.10\"><a href=\"https://python-visualization.github.io/folium/quickstart.html#Vincent/Vega-and-Altair/VegaLite-Markers\" target=\"_blank\">Vincent/Vega and Altair/VegaLite Markers</a></a></span></li></ul></li></ul></li><li><span><a href=\"#GeoDataFrames-in-Folium\" data-toc-modified-id=\"GeoDataFrames-in-Folium-6.1\">GeoDataFrames in Folium</a></span><ul class=\"toc-item\"><li><ul class=\"toc-item\"><li><span><a href=\"#Read-in-our-familiar-NYC-Neighborhood-Tabulation-Area-Neighborhoods-geojson\" data-toc-modified-id=\"Read-in-our-familiar-NYC-Neighborhood-Tabulation-Area-Neighborhoods-geojson-6.1.0.1\">Read in our familiar NYC Neighborhood Tabulation Area Neighborhoods <code>geojson</code></a></span></li><li><span><a href=\"#Plot-our-GeoDataFrame\" data-toc-modified-id=\"Plot-our-GeoDataFrame-6.1.0.2\">Plot our GeoDataFrame</a></span></li><li><span><a href=\"#Let's-add-our-GeoDataFrame-to-a-Map\" data-toc-modified-id=\"Let's-add-our-GeoDataFrame-to-a-Map-6.1.0.3\">Let's add our GeoDataFrame to a Map</a></span></li><li><span><a href=\"#Let's-also-add-LayerControl()\" data-toc-modified-id=\"Let's-also-add-LayerControl()-6.1.0.4\">Let's also add <code>LayerControl()</code></a></span></li><li><span><a href=\"#Style-our-feature-using-style_function-and-lamda-function\" data-toc-modified-id=\"Style-our-feature-using-style_function-and-lamda-function-6.1.0.5\">Style our feature using <code>style_function</code> and lamda function</a></span></li><li><span><a href=\"#Let's-Style-our-GeoDataFrame-by-a-Column-that-we-add-a-Color-to\" data-toc-modified-id=\"Let's-Style-our-GeoDataFrame-by-a-Column-that-we-add-a-Color-to-6.1.0.6\">Let's Style our GeoDataFrame by a Column that we add a Color to</a></span></li><li><span><a href=\"#Check-out-our-DataFrame\" data-toc-modified-id=\"Check-out-our-DataFrame-6.1.0.7\">Check out our DataFrame</a></span></li><li><span><a href=\"#Let's-see-our-GeoDataFrame-as-geojson\" data-toc-modified-id=\"Let's-see-our-GeoDataFrame-as-geojson-6.1.0.8\">Let's see our GeoDataFrame as <code>geojson</code></a></span></li><li><span><a href=\"#Now-let's-create-Function-to-return-the-Feature-Property-of-Color\" data-toc-modified-id=\"Now-let's-create-Function-to-return-the-Feature-Property-of-Color-6.1.0.9\">Now let's create Function to return the Feature Property of Color</a></span></li><li><span><a href=\"#Choropleth-Maps\" data-toc-modified-id=\"Choropleth-Maps-6.1.0.10\">Choropleth Maps</a></span></li><li><span><a href=\"#Let's-check-out-our-state_data\" data-toc-modified-id=\"Let's-check-out-our-state_data-6.1.0.11\">Let's check out our <code>state_data</code></a></span></li><li><span><a href=\"#Check-out-our-geojson\" data-toc-modified-id=\"Check-out-our-geojson-6.1.0.12\">Check out our <code>geojson</code></a></span></li></ul></li></ul></li></ul></li><li><span><a href=\"#Plotly\" data-toc-modified-id=\"Plotly-7\">Plotly</a></span><ul class=\"toc-item\"><li><span><a href=\"#Library-Installs\" data-toc-modified-id=\"Library-Installs-7.1\">Library Installs</a></span><ul class=\"toc-item\"><li><span><a href=\"#Plotly\" data-toc-modified-id=\"Plotly-7.1.1\">Plotly</a></span></li><li><span><a href=\"#We-also-may-need-Orca\" data-toc-modified-id=\"We-also-may-need-Orca-7.1.2\">We also may need Orca</a></span><ul class=\"toc-item\"><li><span><a href=\"#Scatter-Plot-with-Plotly\" data-toc-modified-id=\"Scatter-Plot-with-Plotly-7.1.2.1\">Scatter Plot with Plotly</a></span></li><li><span><a href=\"#Let's-save-this-as-an-HTML-file\" data-toc-modified-id=\"Let's-save-this-as-an-HTML-file-7.1.2.2\">Let's save this as an HTML file</a></span></li><li><span><a href=\"#And-let's-save-as-a-PNG-file\" data-toc-modified-id=\"And-let's-save-as-a-PNG-file-7.1.2.3\">And let's save as a PNG file</a></span></li><li><span><a href=\"#When-you-have-your-notebooks-hosted-in-GitHub,-html-and-javascript-don't-render,-so-have-them-visible-by-saving-to-image\" data-toc-modified-id=\"When-you-have-your-notebooks-hosted-in-GitHub,-html-and-javascript-don't-render,-so-have-them-visible-by-saving-to-image-7.1.2.4\">When you have your notebooks hosted in GitHub, html and javascript don't render, so have them visible by saving to image</a></span></li></ul></li></ul></li><li><span><a href=\"#Geo-in-Plotly\" data-toc-modified-id=\"Geo-in-Plotly-7.2\">Geo in Plotly</a></span><ul class=\"toc-item\"><li><ul class=\"toc-item\"><li><span><a href=\"#Let's-Create-a-Map-in-Plotly\" data-toc-modified-id=\"Let's-Create-a-Map-in-Plotly-7.2.0.1\">Let's Create a Map in Plotly</a></span></li><li><span><a href=\"#Load-in-some-data\" data-toc-modified-id=\"Load-in-some-data-7.2.0.2\">Load in some data</a></span></li><li><span><a href=\"#Check-out-the-DataFrame\" data-toc-modified-id=\"Check-out-the-DataFrame-7.2.0.3\">Check out the DataFrame</a></span></li><li><span><a href=\"#Create-a-map-of-2007-Population\" data-toc-modified-id=\"Create-a-map-of-2007-Population-7.2.0.4\">Create a map of 2007 Population</a></span></li><li><span><a href=\"#Create-an-Animated-Bubble-Map\" data-toc-modified-id=\"Create-an-Animated-Bubble-Map-7.2.0.5\">Create an Animated Bubble Map</a></span></li></ul></li></ul></li></ul></li><li><span><a href=\"#ArcGIS-API-for-Python\" data-toc-modified-id=\"ArcGIS-API-for-Python-8\">ArcGIS API for Python</a></span><ul class=\"toc-item\"><li><ul class=\"toc-item\"><li><span><a href=\"#Esri-Notebooks:-https://notebooks.esri.com/\" data-toc-modified-id=\"Esri-Notebooks:-https://notebooks.esri.com/-8.0.1\">Esri Notebooks: <a href=\"https://notebooks.esri.com/\" target=\"_blank\">https://notebooks.esri.com/</a></a></span></li></ul></li><li><span><a href=\"#Install-arcgis\" data-toc-modified-id=\"Install-arcgis-8.1\">Install <code>arcgis</code></a></span><ul class=\"toc-item\"><li><ul class=\"toc-item\"><li><span><a href=\"#This-file-has-been-.gitignore'd\" data-toc-modified-id=\"This-file-has-been-.gitignore'd-8.1.0.1\">This file has been <code>.gitignore</code>'d</a></span></li></ul></li><li><span><a href=\"#Setting-up-your-arcgis_online_config.json\" data-toc-modified-id=\"Setting-up-your-arcgis_online_config.json-8.1.1\">Setting up your <code>arcgis_online_config.json</code></a></span></li><li><span><a href=\"#Gitignore-this-file.\" data-toc-modified-id=\"Gitignore-this-file.-8.1.2\">Gitignore this file.</a></span><ul class=\"toc-item\"><li><span><a href=\"#Let's-define-this-function-to-make-it-easy-to-read-.json-files-into-a-dicitonary\" data-toc-modified-id=\"Let's-define-this-function-to-make-it-easy-to-read-.json-files-into-a-dicitonary-8.1.2.1\">Let's define this function to make it easy to read <code>.json</code> files into a dicitonary</a></span></li><li><span><a href=\"#Let's-Read-in-our-config-as-settings-variable\" data-toc-modified-id=\"Let's-Read-in-our-config-as-settings-variable-8.1.2.2\">Let's Read in our config as <code>settings</code> variable</a></span></li><li><span><a href=\"#Let's-create-variables-to-authenticate-with-ArcGIS-Online\" data-toc-modified-id=\"Let's-create-variables-to-authenticate-with-ArcGIS-Online-8.1.2.3\">Let's create variables to authenticate with ArcGIS Online</a></span></li><li><span><a href=\"#Let's-connect-to-ArcGIS-Online\" data-toc-modified-id=\"Let's-connect-to-ArcGIS-Online-8.1.2.4\">Let's connect to ArcGIS Online</a></span></li><li><span><a href=\"#Instantiate-a-map\" data-toc-modified-id=\"Instantiate-a-map-8.1.2.5\">Instantiate a map</a></span></li><li><span><a href=\"#Add-a-layer-to-the-map\" data-toc-modified-id=\"Add-a-layer-to-the-map-8.1.2.6\">Add a layer to the map</a></span></li></ul></li></ul></li><li><span><a href=\"#Adding-a-local-Shapefile-to-your-ArcGIS-Online-Account\" data-toc-modified-id=\"Adding-a-local-Shapefile-to-your-ArcGIS-Online-Account-8.2\">Adding a local Shapefile to your ArcGIS Online Account</a></span><ul class=\"toc-item\"><li><ul class=\"toc-item\"><li><span><a href=\"#Let's-create-a-variable-that's-the-path-to-our-data-file.\" data-toc-modified-id=\"Let's-create-a-variable-that's-the-path-to-our-data-file.-8.2.0.1\">Let's create a variable that's the path to our data file.</a></span></li><li><span><a href=\"#Set-up-a-Dictionary-with-some-metadata-about-our-file\" data-toc-modified-id=\"Set-up-a-Dictionary-with-some-metadata-about-our-file-8.2.0.2\">Set up a Dictionary with some metadata about our file</a></span></li><li><span><a href=\"#And-let's-now-Add-it-to-ArcGIS-Online\" data-toc-modified-id=\"And-let's-now-Add-it-to-ArcGIS-Online-8.2.0.3\">And let's now Add it to ArcGIS Online</a></span></li><li><span><a href=\"#Publish-it-on-ArcGIS-Online\" data-toc-modified-id=\"Publish-it-on-ArcGIS-Online-8.2.0.4\">Publish it on ArcGIS Online</a></span></li></ul></li></ul></li></ul></li></ul></div>"
   ]
  },
  {
   "cell_type": "markdown",
   "metadata": {},
   "source": [
    "# Learning Objectives\n",
    "\n",
    "* Folium\n",
    "* Plotly\n",
    "* Python for ArcGIS Online\n",
    "\n",
    "\n",
    "### Fork and Clone this Lesson Repo\n",
    "\n",
    "https://github.com/pratt-savi-810/pratt-savi-810-2020-03-lesson_14\n",
    "\n",
    "\n"
   ]
  },
  {
   "cell_type": "markdown",
   "metadata": {},
   "source": [
    "# Import Libraries\n",
    "\n",
    "Let's `import` some of the libraries we've already used. "
   ]
  },
  {
   "cell_type": "code",
   "execution_count": null,
   "metadata": {},
   "outputs": [],
   "source": [
    "import os\n",
    "import sys\n",
    "module_path = os.path.abspath(os.path.join('..'))\n",
    "if module_path not in sys.path:\n",
    "    sys.path.append(module_path)\n",
    "    \n",
    "\n",
    "from IPython.display import IFrame\n",
    "import pandas as pd\n",
    "import geopandas as gpd\n",
    "import matplotlib.pyplot as plt\n",
    "import numpy as np\n",
    "import missingno as msno\n",
    "import seaborn as sns\n",
    "import matplotlib.patches as patches\n",
    "import warnings\n",
    "import networkx as nx\n",
    "import osmnx as ox\n",
    "import requests\n",
    "import matplotlib.cm as cm\n",
    "import matplotlib.colors as colors\n",
    "ox.config(use_cache=True, log_console=True) \n",
    "warnings.filterwarnings('ignore')\n",
    "warnings.simplefilter('ignore')\n",
    "from IPython.display import IFrame\n",
    "\n",
    "\n",
    "%matplotlib inline\n",
    "%load_ext autoreload\n",
    "%autoreload 2\n",
    "\n",
    "# IFrame(src='https://commons.pratt.edu/savi/', width=700, height=400)"
   ]
  },
  {
   "cell_type": "markdown",
   "metadata": {},
   "source": [
    "# Folium\n",
    "\n",
    "#### Conda Install Folium in case you don't have"
   ]
  },
  {
   "cell_type": "code",
   "execution_count": null,
   "metadata": {},
   "outputs": [],
   "source": [
    "# !conda install folium -c conda-forge --yes"
   ]
  },
  {
   "cell_type": "markdown",
   "metadata": {},
   "source": [
    "#### Earlier on in the class we plotted a map with Folim, let's revisit\n",
    "\n",
    "> folium builds on the data wrangling strengths of the Python ecosystem and the mapping strengths of the leaflet.js library. Manipulate your data in Python, then visualize it in on a Leaflet map via folium. Source: https://python-visualization.github.io/folium/\n"
   ]
  },
  {
   "cell_type": "markdown",
   "metadata": {},
   "source": [
    "#### Import `folium` "
   ]
  },
  {
   "cell_type": "code",
   "execution_count": null,
   "metadata": {},
   "outputs": [],
   "source": []
  },
  {
   "cell_type": "markdown",
   "metadata": {},
   "source": [
    "#### Create a Folium Map "
   ]
  },
  {
   "cell_type": "code",
   "execution_count": null,
   "metadata": {
    "scrolled": true
   },
   "outputs": [],
   "source": []
  },
  {
   "cell_type": "markdown",
   "metadata": {},
   "source": [
    "#### Add a Marker to the Map"
   ]
  },
  {
   "cell_type": "code",
   "execution_count": null,
   "metadata": {
    "scrolled": true
   },
   "outputs": [],
   "source": []
  },
  {
   "cell_type": "markdown",
   "metadata": {},
   "source": [
    "#### Add one more Marker and Save As HTML file "
   ]
  },
  {
   "cell_type": "code",
   "execution_count": null,
   "metadata": {},
   "outputs": [],
   "source": []
  },
  {
   "cell_type": "markdown",
   "metadata": {},
   "source": [
    "#### Show our map"
   ]
  },
  {
   "cell_type": "code",
   "execution_count": null,
   "metadata": {},
   "outputs": [],
   "source": []
  },
  {
   "cell_type": "markdown",
   "metadata": {},
   "source": [
    "#### Let's now Create a CircleMarker\n",
    "\n",
    "> CircleMarker sets the radius of the circle in pixels. \n",
    "> Source: https://www.wrld3d.com/wrld.js/latest/docs/leaflet/L.CircleMarker/"
   ]
  },
  {
   "cell_type": "code",
   "execution_count": null,
   "metadata": {},
   "outputs": [],
   "source": [
    "m = folium.Map(\n",
    "    location=[45.5236, -122.6750],\n",
    "    zoom_start=13\n",
    ")\n",
    "\n",
    "### code here\n",
    "\n",
    "m"
   ]
  },
  {
   "cell_type": "markdown",
   "metadata": {},
   "source": [
    "#### Let's now Create a Circle\n",
    "\n",
    "> Radius of the circle, in meters.\n",
    "> Source: https://www.wrld3d.com/wrld.js/latest/docs/leaflet/L.Circle"
   ]
  },
  {
   "cell_type": "code",
   "execution_count": null,
   "metadata": {},
   "outputs": [],
   "source": [
    "m = folium.Map(\n",
    "    location=[45.5236, -122.6750],\n",
    "    zoom_start=13\n",
    ")\n",
    "\n",
    "\n",
    "### code here\n",
    "\n",
    "m"
   ]
  },
  {
   "cell_type": "markdown",
   "metadata": {},
   "source": [
    "#### [Vincent/Vega and Altair/VegaLite Markers](https://python-visualization.github.io/folium/quickstart.html#Vincent/Vega-and-Altair/VegaLite-Markers)\n",
    "\n",
    "For Popups"
   ]
  },
  {
   "cell_type": "code",
   "execution_count": null,
   "metadata": {},
   "outputs": [],
   "source": [
    "import json\n",
    "import requests\n",
    "\n",
    "\n",
    "url = 'https://raw.githubusercontent.com/python-visualization/folium/master/examples/data'\n",
    "vis1 = json.loads(requests.get(f'{url}/vis1.json').text)\n",
    "vis2 = json.loads(requests.get(f'{url}/vis2.json').text)\n",
    "vis3 = json.loads(requests.get(f'{url}/vis3.json').text)"
   ]
  },
  {
   "cell_type": "code",
   "execution_count": null,
   "metadata": {
    "scrolled": true
   },
   "outputs": [],
   "source": [
    "m = folium.Map(\n",
    "    location=[46.3014, -123.7390],\n",
    "    zoom_start=7,\n",
    "    tiles='Stamen Terrain'\n",
    ")\n",
    "\n",
    "folium.Marker(\n",
    "    location=[47.3489, -124.708],\n",
    "    popup=folium.Popup(max_width=450).add_child(\n",
    "        folium.Vega(vis1, width=450, height=250))\n",
    ").add_to(m)\n",
    "\n",
    "folium.Marker(\n",
    "    location=[44.639, -124.5339],\n",
    "    popup=folium.Popup(max_width=450).add_child(\n",
    "        folium.Vega(vis2, width=450, height=250))\n",
    ").add_to(m)\n",
    "\n",
    "folium.Marker(\n",
    "    location=[46.216, -124.1280],\n",
    "    popup=folium.Popup(max_width=450).add_child(\n",
    "        folium.Vega(vis3, width=450, height=250))\n",
    ").add_to(m)\n",
    "\n",
    "\n",
    "m"
   ]
  },
  {
   "cell_type": "markdown",
   "metadata": {},
   "source": [
    "## GeoDataFrames in Folium\n",
    "\n",
    "#### Read in our familiar NYC Neighborhood Tabulation Area Neighborhoods `geojson`"
   ]
  },
  {
   "cell_type": "code",
   "execution_count": null,
   "metadata": {},
   "outputs": [],
   "source": [
    "nyc_nta_geojson = 'https://data.cityofnewyork.us/api/geospatial/cpf4-rkhq?method=export&format=GeoJSON'\n",
    "\n",
    "gdf = gpd.read_file(nyc_nta_geojson)"
   ]
  },
  {
   "cell_type": "markdown",
   "metadata": {},
   "source": [
    "#### Plot our GeoDataFrame"
   ]
  },
  {
   "cell_type": "code",
   "execution_count": null,
   "metadata": {},
   "outputs": [],
   "source": []
  },
  {
   "cell_type": "markdown",
   "metadata": {},
   "source": [
    "#### Let's add our GeoDataFrame to a Map \n",
    "\n",
    "Note you may need to make sure is in 4327 or 3857\n",
    "\n",
    "\n",
    "#### Let's also add `LayerControl()` "
   ]
  },
  {
   "cell_type": "code",
   "execution_count": null,
   "metadata": {},
   "outputs": [],
   "source": [
    "m = folium.Map(location=[40.661, -73.944], tiles=\"cartodbpositron\", zoom_start=10)\n",
    "\n",
    "### code here\n",
    "\n",
    "\n",
    "m"
   ]
  },
  {
   "cell_type": "markdown",
   "metadata": {},
   "source": [
    "#### Style our feature using `style_function` and lamda function"
   ]
  },
  {
   "cell_type": "code",
   "execution_count": null,
   "metadata": {
    "scrolled": true
   },
   "outputs": [],
   "source": [
    "m = folium.Map(location=[40.661, -73.944], tiles=\"cartodbpositron\", zoom_start=10)\n",
    "\n",
    "\n",
    "### code here\n",
    "\n",
    "\n",
    "m"
   ]
  },
  {
   "cell_type": "markdown",
   "metadata": {},
   "source": [
    "#### Let's Style our GeoDataFrame by a Column that we add a Color to"
   ]
  },
  {
   "cell_type": "code",
   "execution_count": null,
   "metadata": {},
   "outputs": [],
   "source": []
  },
  {
   "cell_type": "markdown",
   "metadata": {},
   "source": [
    "#### Check out our DataFrame"
   ]
  },
  {
   "cell_type": "code",
   "execution_count": null,
   "metadata": {},
   "outputs": [],
   "source": []
  },
  {
   "cell_type": "markdown",
   "metadata": {},
   "source": [
    "#### Let's see our GeoDataFrame as `geojson`"
   ]
  },
  {
   "cell_type": "code",
   "execution_count": null,
   "metadata": {},
   "outputs": [],
   "source": []
  },
  {
   "cell_type": "markdown",
   "metadata": {},
   "source": [
    "#### Now let's create Function to return the Feature Property of Color"
   ]
  },
  {
   "cell_type": "code",
   "execution_count": null,
   "metadata": {},
   "outputs": [],
   "source": [
    "m = folium.Map(location=[40.661, -73.944], tiles=\"cartodbpositron\", zoom_start=10)\n",
    "\n",
    "\n",
    "### code here\n",
    "\n",
    "\n",
    "m"
   ]
  },
  {
   "cell_type": "markdown",
   "metadata": {},
   "source": [
    "#### Choropleth Maps\n",
    "\n",
    "Source: https://python-visualization.github.io/folium/quickstart.html#Choropleth-maps"
   ]
  },
  {
   "cell_type": "code",
   "execution_count": null,
   "metadata": {},
   "outputs": [],
   "source": [
    "url = 'https://raw.githubusercontent.com/python-visualization/folium/master/examples/data'\n",
    "state_geo = f'{url}/us-states.json'\n",
    "state_unemployment = f'{url}/US_Unemployment_Oct2012.csv'\n",
    "state_data = pd.read_csv(state_unemployment)\n"
   ]
  },
  {
   "cell_type": "markdown",
   "metadata": {},
   "source": [
    "#### Let's check out our `state_data`"
   ]
  },
  {
   "cell_type": "code",
   "execution_count": null,
   "metadata": {},
   "outputs": [],
   "source": [
    "state_data.head()"
   ]
  },
  {
   "cell_type": "markdown",
   "metadata": {},
   "source": [
    "#### Check out our `geojson`"
   ]
  },
  {
   "cell_type": "code",
   "execution_count": null,
   "metadata": {},
   "outputs": [],
   "source": [
    "state_geo"
   ]
  },
  {
   "cell_type": "code",
   "execution_count": null,
   "metadata": {},
   "outputs": [],
   "source": [
    "\n",
    "\n",
    "m = folium.Map(location=[48, -102], zoom_start=3)\n",
    "\n",
    "folium.Choropleth(\n",
    "    geo_data=state_geo,\n",
    "    name='choropleth',\n",
    "    data=state_data,\n",
    "    columns=['State', 'Unemployment'],\n",
    "    key_on='feature.id',\n",
    "    fill_color='YlGn',\n",
    "    fill_opacity=0.7,\n",
    "    line_opacity=0.2,\n",
    "    legend_name='Unemployment Rate (%)'\n",
    ").add_to(m)\n",
    "\n",
    "folium.LayerControl().add_to(m)\n",
    "\n",
    "m"
   ]
  },
  {
   "cell_type": "markdown",
   "metadata": {},
   "source": [
    "# Plotly\n",
    "\n",
    "> plotly.py is an interactive, open-source, and browser-based graphing library for Python ✨ Built on top of plotly.js, plotly.py is a high-level, declarative charting library. plotly.js ships with over 30 chart types, including scientific charts, 3D graphs, statistical charts, SVG maps, financial charts, and more. Source: https://github.com/plotly/plotly.py"
   ]
  },
  {
   "cell_type": "markdown",
   "metadata": {},
   "source": [
    "## Library Installs\n",
    "\n",
    "### Plotly"
   ]
  },
  {
   "cell_type": "code",
   "execution_count": null,
   "metadata": {},
   "outputs": [],
   "source": [
    "# ! conda install -c plotly plotly"
   ]
  },
  {
   "cell_type": "code",
   "execution_count": null,
   "metadata": {},
   "outputs": [],
   "source": [
    "import plotly\n",
    "plotly.__version__"
   ]
  },
  {
   "cell_type": "markdown",
   "metadata": {},
   "source": [
    "### We also may need Orca"
   ]
  },
  {
   "cell_type": "code",
   "execution_count": null,
   "metadata": {},
   "outputs": [],
   "source": [
    "# ! conda install -c plotly plotly-orca -y"
   ]
  },
  {
   "cell_type": "markdown",
   "metadata": {},
   "source": [
    "#### Scatter Plot with Plotly\n",
    "\n",
    "Source: https://plotly.com/python/px-arguments/"
   ]
  },
  {
   "cell_type": "code",
   "execution_count": null,
   "metadata": {},
   "outputs": [],
   "source": [
    "import plotly.express as px\n",
    "df = px.data.iris()\n",
    "\n",
    "fig = px.scatter(\n",
    "    df, \n",
    "    x=df.sepal_length, \n",
    "    y=df.sepal_width, \n",
    "    color=df.species,\n",
    "    size=df.petal_length,\n",
    "    hover_data=[df.index], \n",
    "    range_x=[0, 8], \n",
    "    range_y=[0, 8], \n",
    "    width=800, \n",
    "    height=800,\n",
    ")\n",
    "\n",
    "fig.update_layout(\n",
    "    title=\"Plot Title\",\n",
    "    xaxis_title=\"x Axis Title\",\n",
    "    yaxis_title=\"y Axis Title\",\n",
    "    font=dict(\n",
    "        family=\"Courier New, monospace\",\n",
    "        size=18,\n",
    "        color=\"#7f7f7f\"\n",
    "    )\n",
    ")\n",
    "\n",
    "fig.show()\n"
   ]
  },
  {
   "cell_type": "markdown",
   "metadata": {},
   "source": [
    "#### Let's save this as an HTML file"
   ]
  },
  {
   "cell_type": "code",
   "execution_count": null,
   "metadata": {},
   "outputs": [],
   "source": [
    "fig.write_html('html/scatter.html')\n"
   ]
  },
  {
   "cell_type": "markdown",
   "metadata": {},
   "source": [
    "#### And let's save as a PNG file"
   ]
  },
  {
   "cell_type": "code",
   "execution_count": null,
   "metadata": {},
   "outputs": [],
   "source": [
    "fig.write_image('img/scatter.png')"
   ]
  },
  {
   "cell_type": "markdown",
   "metadata": {},
   "source": [
    "#### When you have your notebooks hosted in GitHub, html and javascript don't render, so have them visible by saving to image\n",
    "```python\n",
    "\n",
    "fig.write_image('img/scatter.png')\n",
    "```\n",
    "\n",
    "And embed them with Markdown using;\n",
    "\n",
    "```\n",
    "![scatter](img/scatter.png)\n",
    "```\n",
    "\n",
    "![scatter](img/scatter.png)"
   ]
  },
  {
   "cell_type": "markdown",
   "metadata": {},
   "source": [
    "## Geo in Plotly"
   ]
  },
  {
   "cell_type": "markdown",
   "metadata": {},
   "source": [
    "#### Let's Create a Map in Plotly"
   ]
  },
  {
   "cell_type": "code",
   "execution_count": null,
   "metadata": {},
   "outputs": [],
   "source": []
  },
  {
   "cell_type": "markdown",
   "metadata": {},
   "source": [
    "#### Load in some data"
   ]
  },
  {
   "cell_type": "code",
   "execution_count": null,
   "metadata": {},
   "outputs": [],
   "source": []
  },
  {
   "cell_type": "markdown",
   "metadata": {},
   "source": [
    "#### Check out the DataFrame"
   ]
  },
  {
   "cell_type": "code",
   "execution_count": null,
   "metadata": {},
   "outputs": [],
   "source": []
  },
  {
   "cell_type": "markdown",
   "metadata": {},
   "source": [
    "#### Create a map of 2007 Population\n",
    "\n",
    "Source: https://plotly.com/python/bubble-maps/#base-map-configuration"
   ]
  },
  {
   "cell_type": "code",
   "execution_count": null,
   "metadata": {},
   "outputs": [],
   "source": []
  },
  {
   "cell_type": "markdown",
   "metadata": {},
   "source": [
    "#### Create an Animated Bubble Map\n",
    "\n",
    "Source: https://plotly.com/python/bubble-maps/#base-map-configuration"
   ]
  },
  {
   "cell_type": "code",
   "execution_count": null,
   "metadata": {},
   "outputs": [],
   "source": [
    "\n",
    "### code here\n",
    "\n",
    "\n",
    "fig.show()\n",
    "fig.write_html('html/pop_animation.html')\n",
    "fig.write_image('img/pop_animation.png')"
   ]
  },
  {
   "cell_type": "markdown",
   "metadata": {},
   "source": [
    "# ArcGIS API for Python\n",
    "\n",
    "> ArcGIS is a platform for organizations to create, manage, share, and analyze spatial data. It consists of server components, mobile and desktop applications, and developer tools. This platform can be deployed on-premises or in the cloud (Amazon, Azure) with ArcGIS Enterprise, or used via ArcGIS Online which is hosted and managed by Esri.\n",
    "\n",
    "\n",
    "### Esri Notebooks: https://notebooks.esri.com/\n",
    "\n"
   ]
  },
  {
   "cell_type": "code",
   "execution_count": null,
   "metadata": {},
   "outputs": [],
   "source": [
    "IFrame(src='https://developers.arcgis.com/python/', width=900, height=500)"
   ]
  },
  {
   "cell_type": "markdown",
   "metadata": {},
   "source": [
    "## Install `arcgis`"
   ]
  },
  {
   "cell_type": "code",
   "execution_count": null,
   "metadata": {},
   "outputs": [],
   "source": [
    "# !pip install arcgis"
   ]
  },
  {
   "cell_type": "markdown",
   "metadata": {},
   "source": [
    "#### This file has been `.gitignore`'d\n",
    "\n",
    "\n",
    "In your `.gitignore` file:\n",
    "\n",
    "```\n",
    "*arcgis_online_config.json\n",
    "```"
   ]
  },
  {
   "cell_type": "markdown",
   "metadata": {},
   "source": [
    "### Setting up your `arcgis_online_config.json`\n",
    "\n",
    "```python\n",
    "{\n",
    "  \"username\": \"YOUR_USERNAME\",\n",
    "  \"password\": \"YOUR_PASSWORD\"\n",
    "}\n",
    "```\n",
    "\n",
    "##### Save this file in the same directory as this notebook. \n",
    "\n",
    "\n",
    "### Gitignore this file. \n",
    "\n",
    "Open your `.gitignore` file and add `arcgis_online_config.json` to the list of things to ignore on GitHub, this will prevent others from seeing your username and password. \n"
   ]
  },
  {
   "cell_type": "markdown",
   "metadata": {},
   "source": [
    "#### Let's define this function to make it easy to read `.json` files into a dicitonary"
   ]
  },
  {
   "cell_type": "code",
   "execution_count": null,
   "metadata": {},
   "outputs": [],
   "source": [
    "def read_json(json_file):\n",
    "    with open(json_file) as f:\n",
    "        return json.load(f)"
   ]
  },
  {
   "cell_type": "markdown",
   "metadata": {},
   "source": [
    "#### Let's Read in our config as `settings` variable"
   ]
  },
  {
   "cell_type": "code",
   "execution_count": null,
   "metadata": {},
   "outputs": [],
   "source": [
    "### code here\n",
    "\n",
    "\n",
    "# in the gitignore, you have \n",
    "# arcgis_online_config.json"
   ]
  },
  {
   "cell_type": "markdown",
   "metadata": {},
   "source": [
    "#### Let's create variables to authenticate with ArcGIS Online"
   ]
  },
  {
   "cell_type": "code",
   "execution_count": null,
   "metadata": {},
   "outputs": [],
   "source": [
    "\n",
    "### code here\n"
   ]
  },
  {
   "cell_type": "markdown",
   "metadata": {},
   "source": [
    "#### Let's connect to ArcGIS Online"
   ]
  },
  {
   "cell_type": "code",
   "execution_count": null,
   "metadata": {},
   "outputs": [],
   "source": [
    "\n",
    "### code here\n"
   ]
  },
  {
   "cell_type": "markdown",
   "metadata": {},
   "source": [
    "#### Instantiate a map"
   ]
  },
  {
   "cell_type": "code",
   "execution_count": null,
   "metadata": {},
   "outputs": [],
   "source": [
    "\n",
    "### code here\n"
   ]
  },
  {
   "cell_type": "markdown",
   "metadata": {},
   "source": [
    "#### Add a layer to the map"
   ]
  },
  {
   "cell_type": "code",
   "execution_count": null,
   "metadata": {},
   "outputs": [],
   "source": [
    "\n",
    "### code here\n"
   ]
  },
  {
   "cell_type": "markdown",
   "metadata": {},
   "source": [
    "## Adding a local Shapefile to your ArcGIS Online Account\n",
    "\n",
    "#### Let's create a variable that's the path to our data file. "
   ]
  },
  {
   "cell_type": "code",
   "execution_count": null,
   "metadata": {},
   "outputs": [],
   "source": [
    "\n",
    "### code here\n"
   ]
  },
  {
   "cell_type": "markdown",
   "metadata": {},
   "source": [
    "#### Set up a Dictionary with some metadata about our file"
   ]
  },
  {
   "cell_type": "code",
   "execution_count": null,
   "metadata": {},
   "outputs": [],
   "source": [
    "\n",
    "### code here\n"
   ]
  },
  {
   "cell_type": "markdown",
   "metadata": {},
   "source": [
    "#### And let's now Add it to ArcGIS Online"
   ]
  },
  {
   "cell_type": "code",
   "execution_count": null,
   "metadata": {},
   "outputs": [],
   "source": [
    "\n",
    "### code here\n"
   ]
  },
  {
   "cell_type": "markdown",
   "metadata": {},
   "source": [
    "#### Publish it on ArcGIS Online"
   ]
  },
  {
   "cell_type": "code",
   "execution_count": null,
   "metadata": {},
   "outputs": [],
   "source": [
    "\n",
    "### code here\n"
   ]
  },
  {
   "cell_type": "code",
   "execution_count": null,
   "metadata": {},
   "outputs": [],
   "source": [
    "\n",
    "### code here\n"
   ]
  },
  {
   "cell_type": "code",
   "execution_count": null,
   "metadata": {},
   "outputs": [],
   "source": []
  }
 ],
 "metadata": {
  "kernelspec": {
   "display_name": "Python 3",
   "language": "python",
   "name": "python3"
  },
  "language_info": {
   "codemirror_mode": {
    "name": "ipython",
    "version": 3
   },
   "file_extension": ".py",
   "mimetype": "text/x-python",
   "name": "python",
   "nbconvert_exporter": "python",
   "pygments_lexer": "ipython3",
   "version": "3.6.10"
  },
  "toc": {
   "base_numbering": 1,
   "nav_menu": {},
   "number_sections": false,
   "sideBar": true,
   "skip_h1_title": false,
   "title_cell": "Table of Contents",
   "title_sidebar": "Contents",
   "toc_cell": true,
   "toc_position": {
    "height": "calc(100% - 180px)",
    "left": "10px",
    "top": "150px",
    "width": "165px"
   },
   "toc_section_display": true,
   "toc_window_display": true
  }
 },
 "nbformat": 4,
 "nbformat_minor": 4
}
